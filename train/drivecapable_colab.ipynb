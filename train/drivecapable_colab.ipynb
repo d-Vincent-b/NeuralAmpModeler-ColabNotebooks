{
  "cells": [
    {
      "cell_type": "markdown",
      "metadata": {
        "id": "TC3XkMetGWtK"
      },
      "source": [
        "# Neural Amp Modeler (\"Easy Mode\" Trainer)\n",
        "This notebook allows you to train a neural amp model based on a pair of input/output WAV files that you have of the amp you want to model.\n",
        "\n",
        "**Note**:\n",
        "This notebook is meant to be used on [Google Colab](https://colab.research.google.com/github/d-Vincent-b/neural-amp-modeler/blob/main/bin/train/easy_colab.ipynb).\n",
        "\n",
        "🔶**Before you run**🔶\n",
        "\n",
        "Make sure to get a GPU! (From the upper-left menu, click Runtime->Change runtime type->Select \"GPU\" from the \"Hardware accelerator dropdown menu)\n",
        "\n",
        "⚠**Warning**⚠\n",
        "\n",
        "Google Colab GPU instances only last for 12 hours.\n",
        "Plan your training accordingly!\n",
        "\n",
        "## Steps:\n",
        "1. Get your data\n",
        "2. Installation\n",
        "3. Enter metadata\n",
        "4. Train!\n",
        "5. Check the results and download your model"
      ]
    },
    {
      "cell_type": "markdown",
      "metadata": {
        "id": "5CQleTk7GJV8"
      },
      "source": [
        "## Step 1: Get data\n",
        "We're gonna need data. \"Easy mode\" takes out a lot of the guesswork.\n",
        "\n",
        "### Step 1.1: Download the capture signal\n",
        "\"Easy mode\" uses a pre-crafted \"capture signal\".\n",
        "Download it here: [v2_0_0.wav](https://drive.google.com/file/d/1EPUJNbVXtRnCwqVQtPRUgz3jiexNmvMD/view?usp=drive_link).\n",
        "\n",
        "### Step 1.2 Reamp your gear\n",
        "Then reamp the gear you want to model using it. Save that reamp as \"output.wav\".\n",
        "**Please use 48kHz, 24-bit, mono.** We'll support other sample rates etc in the future; sit tight!\n",
        "\n",
        "### Step 1.3: upload!\n",
        "Upload the input (DI) and output (amped) files you want to use by clicking the Folder icon on the left ⬅ and then clicking the upload icon."
      ]
    },
    {
      "cell_type": "markdown",
      "metadata": {
        "id": "cOjSDSPdhFLy"
      },
      "source": [
        "## Optional: mount Google Drive\n",
        "This allows you to automatically save the resulting NAM file to your google drive, without this your files might dissapear after inactivity.\n",
        "You can also load your input file from Google Drive, not having to upload the same file every time.\n",
        "\n",
        "Make sure you have a folder called *NAM* in the root of your Google Drive, for this to work properly. Put v1.wav v1_1_1.wav and v2_0_0.wav in this folder, to easily recall them at any time."
      ]
    },
    {
      "cell_type": "code",
      "source": [
        "from google.colab import drive\n",
        "drive.mount('/content/drive')"
      ],
      "metadata": {
        "id": "xluZek88eiNL"
      },
      "execution_count": null,
      "outputs": []
    },
    {
      "cell_type": "markdown",
      "source": [
        "### Optional: Import input file from Google Drive\n"
      ],
      "metadata": {
        "id": "TW51J7wih3uC"
      }
    },
    {
      "cell_type": "code",
      "source": [
        "import shutil\n",
        "\n",
        "#@markdown What version was used? (enter WITH file extension: v1.wav v1_1_1.wav or v2_0_0.wav)\n",
        "InputVersion = \"v1_1_1.wav\" #@param {type:\"string\"}\n",
        "\n",
        "InputPath = '/content/drive/MyDrive/NAM/' +InputVersion\n",
        "\n",
        "shutil.copy(InputPath, '/content/' +InputVersion);"
      ],
      "metadata": {
        "id": "Kb3qoRcmiBUR",
        "cellView": "form"
      },
      "execution_count": null,
      "outputs": []
    },
    {
      "cell_type": "markdown",
      "metadata": {
        "id": "2g_4GtFuGlO8"
      },
      "source": [
        "## Step 2: Installation\n",
        "Install `nam` into this Colab instance by running the next cell (hover over and click the play button that appears in the upper-left corner):"
      ]
    },
    {
      "cell_type": "code",
      "execution_count": null,
      "metadata": {
        "id": "vYQIpWr5EYRb"
      },
      "outputs": [],
      "source": [
        "!pip install neural-amp-modeler\n",
        "# Hint: use the next line instead for the very latest!\n",
        "# !pip install git+https://github.com/sdatkinson/neural-amp-modeler.git@main\n",
        "\n",
        "from nam.train.colab import run as _run\n",
        "run = _run\n",
        "%load_ext tensorboard"
      ]
    },
    {
      "cell_type": "markdown",
      "metadata": {
        "id": "7tRCyI_YjZjj"
      },
      "source": [
        "## Step 3: Enter metadata\n",
        "Tell us about what you're modeling!"
      ]
    },
    {
      "cell_type": "code",
      "execution_count": null,
      "metadata": {
        "cellView": "form",
        "id": "zrXbQY7vjZjk"
      },
      "outputs": [],
      "source": [
        "from functools import partial\n",
        "\n",
        "import ipywidgets as widgets\n",
        "from nam.models.metadata import GearType, ToneType, UserMetadata\n",
        "#@markdown NAM name\n",
        "name = \"My model\" #@param {type:\"string\"}\n",
        "#@markdown Modeled by:\n",
        "modeled_by = \"Your name\" #@param {type:\"string\"}\n",
        "#@markdown Gear make:\n",
        "gear_make = \"GearCo\" #@param {type:\"string\"}\n",
        "#@markdown Gear model:\n",
        "gear_model = \"GearAmp\" #@param {type:\"string\"}\n",
        "#@markdown Gear type:\n",
        "# This needs to be a literal. You need to change it by hand if you change the enum!\n",
        "gear_type = \"Pick from: amp, pedal, amp_cab, amp_pedal_cab, preamp, studio\" #@param {type:\"string\"}\n",
        "#@markdown Tone type:\n",
        "tone_type = \"Pick from: clean, overdrive, crunch, hi_gain, fuzz\" #@param {type:\"string\"}\n",
        "\n",
        "def _verbose_enum(E, val):\n",
        "    try:\n",
        "        return E(val)\n",
        "    except ValueError as e:\n",
        "        raise ValueError(\n",
        "            str(e)\n",
        "            + \"\\nValid choices are: \"\n",
        "            + \", \".join(list(x.value for x in E))\n",
        "        )\n",
        "\n",
        "user_metadata = UserMetadata(\n",
        "    name=name,\n",
        "    modeled_by=modeled_by,\n",
        "    gear_make=gear_make,\n",
        "    gear_model=gear_model,\n",
        "    gear_type=_verbose_enum(GearType, gear_type.lower()),\n",
        "    tone_type=_verbose_enum(ToneType, tone_type.lower())\n",
        ")\n",
        "run = partial(_run, user_metadata=user_metadata)"
      ]
    },
    {
      "cell_type": "markdown",
      "metadata": {
        "id": "WVkBZg3-jZjl"
      },
      "source": [
        "## Step 4: Train!\n",
        "Here we go!\n",
        "\n",
        "🕙Training will go through 100 epochs and take just over 10 minutes.🕙\n",
        "\n",
        "If you want a better model, you can try training for more \"**epochs**\"--just put in a\n",
        "different number before hitting go!\n",
        "\n",
        "\"**architecture**\" selects from several presets for the size of the network. This trades off\n",
        "modeling quality for how expensive the resulting model will be to run.\n",
        "\n",
        "   \"**lite**\" models will run approximately **1.5 times** faster than \"**standard**\".\n",
        "\n",
        "   \"**feather**\" models will run more than **2 times** faster than \"**standard**\".\n",
        "\n",
        "   \"**nano**\" models will run about **2.5 times** faster than \"**standard**\".\n",
        "\n",
        "### *Important!*\n",
        "For automatic export to Google Drive DO NOT press the play button as usual.\n",
        "1. set amount of epochs as usual\n",
        "2. set NameforExport below, this is the name you'll find in your Google Drive\n",
        "3. get your cursor back up here! (click once, you'll notice when this cell is highlighted)\n",
        "4. at the top of your screen, in Colab's own menu's go to **runtime** and click **Run after**\n"
      ]
    },
    {
      "cell_type": "code",
      "execution_count": null,
      "metadata": {
        "id": "xOzo3NxqjZjl"
      },
      "outputs": [],
      "source": [
        "%tensorboard --logdir /content/lightning_logs\n",
        "run(\n",
        "    epochs=100,\n",
        "    architecture=\"standard\",  # standard, lite, feather, nano\n",
        "    fit_cab=False,  # Change me to True for full-rig modeling!\n",
        "    ignore_checks=False  # Change to True to train anyways with potentially bad data\n",
        ")"
      ]
    },
    {
      "cell_type": "code",
      "source": [
        "# importing required packages\n",
        "import os\n",
        "\n",
        "src_patha = '/content/exported_models/'\n",
        "assert os.path.exists(src_patha), f\"Source '{src_patha}' doesn't exist!\"\n",
        "\n",
        "NameforExport = \"MyNAM\" #@param {type:\"string\"}\n",
        "\n",
        "target_path = '/content/drive/MyDrive/NAM/' +NameforExport\n",
        "os.makedirs(target_path, exist_ok=True)\n",
        "assert os.path.exists(target_path), f\"Target '{target_path}' doesn't exist!\"\n",
        "\n",
        "target_patha = os.path.join(target_path, \"exported_models\")\n",
        "os.makedirs(target_patha, exist_ok=True)\n",
        "print(os.path.join(target_patha))\n",
        "\n",
        "%cp -a \"$src_patha\"/* \"$target_patha\"\n",
        "\n",
        "\n",
        "# export logs aka the evidence of your ESR\n",
        "src_pathb = '/content/lightning_logs/'\n",
        "assert os.path.exists(src_pathb), f\"Source '{src_pathb}' doesn't exist!\"\n",
        "\n",
        "target_pathb = os.path.join(target_path, \"lightning_logs\")\n",
        "os.makedirs(target_pathb, exist_ok=True)\n",
        "print(os.path.join(target_pathb))\n",
        "\n",
        "%cp -a \"$src_pathb\"/* \"$target_pathb\""
      ],
      "metadata": {
        "cellView": "form",
        "id": "3pK4ybJ2izpZ"
      },
      "execution_count": null,
      "outputs": []
    },
    {
      "cell_type": "markdown",
      "metadata": {
        "id": "823KJ_L0Rchp"
      },
      "source": [
        "## Step 5: Check the results and download your model\n",
        "We're done!\n",
        "\n",
        "Have a look at the plot above to see how your model compares to the real gear you're modeling.\n",
        "Hopefully it looks good!\n",
        "Go to the file browser on the left panel ⬅ and download `model.nam` from the `exported_model` directory (you may need to hit the refresh button).\n",
        "\n",
        "Additionally, if you want to continue to train this model later you can download the lightning model artifacts from `lightning_logs`. If not, that's fine too.\n",
        "\n",
        "# 🎸 **ENJOY!** 🎸"
      ]
    }
  ],
  "metadata": {
    "accelerator": "GPU",
    "colab": {
      "provenance": []
    },
    "gpuClass": "standard",
    "kernelspec": {
      "display_name": "nam",
      "language": "python",
      "name": "python3"
    },
    "language_info": {
      "codemirror_mode": {
        "name": "ipython",
        "version": 3
      },
      "file_extension": ".py",
      "mimetype": "text/x-python",
      "name": "python",
      "nbconvert_exporter": "python",
      "pygments_lexer": "ipython3",
      "version": "3.10.6"
    },
    "orig_nbformat": 4,
    "vscode": {
      "interpreter": {
        "hash": "920df60c69944ba95f8c12adb41fedfdc8090c370a20d39253c7705973dd37db"
      }
    }
  },
  "nbformat": 4,
  "nbformat_minor": 0
}
